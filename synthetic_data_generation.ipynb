from faker import Faker
from pymongo import MongoClient
import random
from datetime import datetime
import sys
sys.stdout.reconfigure(encoding='utf-8')
from app import HealthInsuranceEligibility


# Assuming HealthInsuranceEligibility is already defined in your notebook above

fake = Faker('en_US')

# MongoDB setup: CompanyX > health_insurance_db > eligibility_data
client = MongoClient("mongodb://localhost:27017/")
db = client['health_insurance_db']
collection = db['eligibility_data']

# List of all U.S. States
states = [
    "California", "Texas", "Florida", "New York", "Pennsylvania", "Illinois", "Ohio", "Georgia", "North Carolina", "Michigan",
    "New Jersey", "Virginia", "Washington", "Arizona", "Massachusetts", "Tennessee", "Indiana", "Missouri", "Maryland", "Wisconsin",
    "Colorado", "Minnesota", "South Carolina", "Alabama", "Louisiana", "Kentucky", "Oregon", "Oklahoma", "Connecticut", "Iowa",
    "Mississippi", "Arkansas", "Kansas", "Utah", "Nevada", "New Mexico", "Nebraska", "West Virginia", "Idaho", "Hawaii", "Maine",
    "Montana", "Rhode Island", "Delaware", "South Dakota", "North Dakota", "Alaska", "Vermont", "Wyoming", "District of Columbia"
]

# Define states, disabilities, and expenses
disability_chance = 0.1  # 10% chance someone in the family has a disability

def generate_fake_person():
    family_size = random.randint(1, 5)
    ages = [random.randint(0, 90) for _ in range(family_size)]
    disabilities = [random.random() < disability_chance for _ in range(family_size)]

    income = random.randint(10000, 90000)
    expenses = {
        "passive": round(random.uniform(500, 3000), 2),
        "active": round(random.uniform(500, 3000), 2)
    }

    state = random.choice(states)
    medical_necessity = random.choice([True, False])
    location = random.choice(["urban", "rural"])

    # Randomize citizenship and residency status (some people may not be U.S. citizens or state residents)
    citizenship_status = random.choice(["U.S. citizen", "Non-U.S. citizen"])
    residency_status = random.choice(["State resident", "Non-state resident"])

    eligibility_checker = HealthInsuranceEligibility(
        income=income,
        family_size=family_size,
        ages=ages,
        state=state,
        citizenship_status=citizenship_status,
        residency_status=residency_status,
        medical_necessity=medical_necessity,
        disability=disabilities,
        expenses=expenses
    )

    eligibility_summary = eligibility_checker.eligibility_summary()

    # Provider Incentive: Either general or specialist
    provider_incentive = {
        "provider_id": random.randint(1, 10),
        "location": location,
        "specialty": random.choice(["general", "specialist"]),
        "incentive": "Standard incentive + High patient satisfaction bonus"
    }

    # Claim Status: Based on eligibility
    claim_type = random.choice(["routine", "urgent"])
    coverage = "Full coverage for routine care." if "Eligible" in eligibility_summary["Medicaid"] else "Coverage denied."
    claim_status = {
        "patient_id": fake.random_int(min=100, max=999),
        "status": "Pending",
        "claim_type": claim_type,
        "coverage": coverage
    }

    # Visit Data: Based on eligibility
    if "Eligible" in eligibility_summary["Medicaid"]:
        visit_data = "Routine check-up provided. No immediate concerns."
    else:
        visit_data = "Visit advised based on healthcare needs. No immediate concerns."

    # Construct document to insert into MongoDB
    doc = {
        "eligibility_summary": eligibility_summary,
        "visit_data": visit_data,
        "provider_incentives": [provider_incentive],
        "claims_status": [claim_status],
        "input_parameters": {
            "income": income,
            "family_size": family_size,
            "ages": ages,
            "state": state,
            "citizenship_status": citizenship_status,
            "residency_status": residency_status,
            "medical_necessity": medical_necessity,
            "disability": disabilities,
            "expenses": expenses,
            "location": location
        },
        "timestamp": datetime.utcnow()
    }

    return doc

# Generate sample data (e.g. 100 records — increase as needed)
for _ in range(100):
    collection.insert_one(generate_fake_person())

print("Sample data inserted into MongoDB ➜ CompanyX > health_insurance_db > eligibility_data ✅")
