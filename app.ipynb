from flask import Flask, render_template, make_response, request
from pymongo import MongoClient
import matplotlib.pyplot as plt
import io
import base64

app = Flask(__name__)

# MongoDB setup
client = MongoClient("mongodb://localhost:27017/")
db = client["health_insurance_db"]
collection = db["eligibility_data_"]

# Health Insurance Eligibility Class
class HealthInsuranceEligibility:
    def __init__(self, income, family_size, ages, state, citizenship_status, residency_status, medical_necessity, disability, expenses):
        self.income = income
        self.family_size = family_size
        self.ages = ages
        self.state = state.title()  # Capitalize the state for consistency
        self.citizenship_status = citizenship_status
        self.residency_status = residency_status
        self.medical_necessity = medical_necessity
        self.disability = disability
        self.expenses = expenses
        self.fpl = self.get_federal_poverty_level()
        self.state_specific_thresholds = self.get_state_thresholds()

    def get_federal_poverty_level(self):
        # 2024 Federal Poverty Guidelines
        fpl_2024 = {
            "default": {  # 48 contiguous states + DC
                1: 15060, 2: 20340, 3: 25620,
                4: 30900, 5: 36180, 6: 41460,
            },
            "Hawaii": {
                1: 17310, 2: 23390, 3: 29470,
                4: 35550, 5: 41630, 6: 47710,
            },
            "Alaska": {
                1: 18890, 2: 25550, 3: 32210,
                4: 38870, 5: 45530, 6: 52190,
            }
        }

        if self.state == "Hawaii":
            base_fpl = fpl_2024["Hawaii"]
        elif self.state == "Alaska":
            base_fpl = fpl_2024["Alaska"]
        else:
            base_fpl = fpl_2024["default"]

        if self.family_size <= 6:
            return base_fpl[self.family_size]
        else:
            if self.state == "Hawaii":
                additional = 6060
            elif self.state == "Alaska":
                additional = 6730
            else:
                additional = 5250
            return base_fpl[6] + additional * (self.family_size - 6)

    def get_state_thresholds(self):
        # State-specific CHIP income thresholds
        thresholds = {
            "Texas": {"medicaid": 138, "chip": 300},
            "California": {"medicaid": 138, "chip": 250},
            "New York": {"medicaid": 150, "chip": 400},
            # Add more states as needed
        }
        return thresholds.get(self.state, {"medicaid": 138, "chip": 300})

    def is_citizen_or_resident(self):
        return self.citizenship_status == "U.S. citizen" and self.residency_status == "State resident"

    def calculate_remaining_income(self):
        passive_expenses = self.expenses.get("passive", 0)
        active_expenses = self.expenses.get("active", 0)
        return self.income - (passive_expenses + active_expenses)

    def check_medicaid_eligibility(self):
        if not self.is_citizen_or_resident():
            return "Not eligible for Medicaid: Must be a U.S. citizen and state resident."
        if self.income < (self.fpl * self.state_specific_thresholds["medicaid"] / 100):
            eligible_members = [
                age for idx, age in enumerate(self.ages)
                if age < 19 or age >= 65 or self.disability[idx] or self.medical_necessity[idx]
            ]
            return f"Eligible for Medicaid for members: {eligible_members}" if eligible_members else "Not eligible for Medicaid."
        return "Not eligible for Medicaid."

    def check_chip_eligibility(self):
        if self.income < (self.fpl * self.state_specific_thresholds["chip"] / 100):
            eligible_members = [age for age in self.ages if age < 19]
            return f"Eligible for CHIP for members: {eligible_members}" if eligible_members else "Not eligible for CHIP."
        return "Not eligible for CHIP."

    def check_marketplace_eligibility(self):
        if self.check_medicare_eligibility() != "Not eligible for Medicare.":
            return "Not eligible for Marketplace coverage. Eligible for Medicare."
        if self.income < (self.fpl * 100 / 100):
            return "Not eligible for marketplace coverage. Consider Medicaid."
        elif self.income <= (self.fpl * 400 / 100):
            eligible_members = [age for age in self.ages if age >= 18]
            return f"Eligible for marketplace coverage with potential premium tax credits for members: {eligible_members}"
        else:
            return "Eligible for marketplace coverage but may not qualify for premium tax credits."

    def check_medicare_eligibility(self):
        eligible_members = []
        for i, age in enumerate(self.ages):
            if age >= 65 or (self.disability[i] and age < 65):
                eligible_members.append(age)
        return f"Eligible for Medicare for members: {eligible_members}" if eligible_members else "Not eligible for Medicare."

    def eligibility_summary(self):
        return {
            "Medicaid": self.check_medicaid_eligibility(),
            "CHIP": self.check_chip_eligibility(),
            "Marketplace": self.check_marketplace_eligibility(),
            "Medicare": self.check_medicare_eligibility(),
        }

    def advice_based_on_eligibility(self):
        summary = self.eligibility_summary()
        advice = []
        if "Eligible" in summary["Medicaid"]:
            advice.append("1. You may apply for Medicaid for additional health coverage.")
        elif "Not eligible" in summary["Medicaid"]:
            advice.append("1. You are not eligible for Medicaid. Consider alternative coverage options.")
        if "Eligible" in summary["CHIP"]:
            advice.append("2. Your children may qualify for CHIP for their healthcare needs.")
        if "Eligible" in summary["Marketplace"]:
            advice.append("3. Consider enrolling in a marketplace plan to lower your healthcare costs with premium tax credits.")
        elif "Not eligible" in summary["Marketplace"] and "Eligible" not in summary["Medicare"]:
            advice.append("3. You are not eligible for the marketplace. Consider exploring private health insurance plans.")
        if "Eligible" in summary["Medicare"]:
            advice.append("4. You or your family member may be eligible for Medicare. Make sure to apply.")
        if "Not eligible" in summary["Medicaid"] and "Not eligible" in summary["CHIP"]:
            advice.append("5. You may explore private insurance options.")
        return "\n".join(advice) if advice else "No specific advice at this time."


# Prevent caching during development
@app.after_request
def add_header(response):
    response.headers["Cache-Control"] = "no-cache, no-store, must-revalidate"
    response.headers["Pragma"] = "no-cache"
    response.headers["Expires"] = "0"
    return response


# Main route
@app.route('/', methods=['GET', 'POST'])
def index():
    if request.method == 'POST':
        income = float(request.form['income'])
        family_size = int(request.form['family_size'])
        ages = list(map(int, request.form['ages'].split(',')))
        state = request.form['state']
        citizenship_status = request.form['citizenship_status']
        residency_status = request.form['residency_status']
        medical_necessity = list(map(int, request.form['medical_necessity'].split(',')))  # Ensure medical_necessity is handled correctly
        disability = list(map(int, request.form['disability'].split(',')))  # Ensure disability is handled correctly
        expenses = {
            "passive": float(request.form['passive_expenses']),
            "active": float(request.form['active_expenses'])
        }

        eligibility_checker = HealthInsuranceEligibility(
            income, family_size, ages, state, citizenship_status, residency_status,
            medical_necessity, disability, expenses
        )

        eligibility = eligibility_checker.eligibility_summary()
        advice = eligibility_checker.advice_based_on_eligibility()
        remaining_income = eligibility_checker.calculate_remaining_income()

        # Insert into MongoDB
        record = {
            "income": income,
            "family_size": family_size,
            "ages": ages,
            "state": state,
            "citizenship_status": citizenship_status,
            "residency_status": residency_status,
            "medical_necessity": medical_necessity,
            "disability": disability,
            "expenses": expenses,
            "eligibility": eligibility,
            "advice": advice,
            "remaining_income": remaining_income
        }
        collection.insert_one(record)

        return render_template('index.html', eligibility=eligibility, advice=advice)

    return render_template('index.html')


if __name__ == '__main__':
    app.run(debug=True)
